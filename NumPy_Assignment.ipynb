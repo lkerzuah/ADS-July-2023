{
 "cells": [
  {
   "cell_type": "code",
   "execution_count": 1,
   "id": "60385ff3",
   "metadata": {},
   "outputs": [
    {
     "name": "stdout",
     "output_type": "stream",
     "text": [
      "Mean: 166.7\n"
     ]
    }
   ],
   "source": [
    "import numpy as np\n",
    "\n",
    "# 1. Calculate the mean, median, and standard deviation of the students' heights.\n",
    "\n",
    "heights = np.array([160, 155, 172, 165, 180, 158, 175, 163, 171, 168])\n",
    "\n",
    "mean = np.mean(heights)\n",
    "print(\"Mean:\", mean)\n"
   ]
  },
  {
   "cell_type": "code",
   "execution_count": 2,
   "id": "8af9ffb7",
   "metadata": {},
   "outputs": [
    {
     "name": "stdout",
     "output_type": "stream",
     "text": [
      "Median: 166.5\n"
     ]
    }
   ],
   "source": [
    "median = np.median(heights)\n",
    "print(\"Median:\", median)"
   ]
  },
  {
   "cell_type": "code",
   "execution_count": 3,
   "id": "4541045b",
   "metadata": {},
   "outputs": [
    {
     "name": "stdout",
     "output_type": "stream",
     "text": [
      "Standard Deviation: 7.5372408744845085\n"
     ]
    }
   ],
   "source": [
    "std_dev = np.std(heights)\n",
    "print(\"Standard Deviation:\", std_dev)"
   ]
  },
  {
   "cell_type": "code",
   "execution_count": 8,
   "id": "8baff1a8",
   "metadata": {},
   "outputs": [
    {
     "name": "stdout",
     "output_type": "stream",
     "text": [
      "[0.         0.05172414 0.10344828 0.15517241 0.17241379 0.43103448\n",
      " 0.5862069  0.74137931 0.77586207 0.86206897 0.89655172 0.98275862\n",
      " 1.        ]\n"
     ]
    }
   ],
   "source": [
    "# 2. Create a new array with the heights normalized, i.e., each height value should be transformed to have a mean of 0 and a standard deviation of 1.\n",
    "\n",
    "import numpy as np\n",
    "\n",
    "#create NumPy array\n",
    "\n",
    "heights_norm = (heights-np.min(heights))/(np.max(heights)-np.min(heights))\n",
    "\n",
    "#view normalized array\n",
    "print(heights_norm)"
   ]
  },
  {
   "cell_type": "code",
   "execution_count": 9,
   "id": "fbed1751",
   "metadata": {},
   "outputs": [
    {
     "name": "stdout",
     "output_type": "stream",
     "text": [
      "Argmax: 12\n"
     ]
    }
   ],
   "source": [
    "# 3. Determine the tallest and shortest students in the class using NumPy's argmax and argmin functions.\n",
    "\n",
    "array_argmax = np.argmax(heights)\n",
    "print(\"Argmax:\", array_argmax)  "
   ]
  },
  {
   "cell_type": "code",
   "execution_count": 10,
   "id": "bb2016bf",
   "metadata": {},
   "outputs": [
    {
     "name": "stdout",
     "output_type": "stream",
     "text": [
      "Argmin: 0\n"
     ]
    }
   ],
   "source": [
    "array_argmin = np.argmin(heights)\n",
    "print(\"Argmin:\", array_argmin) "
   ]
  },
  {
   "cell_type": "code",
   "execution_count": 11,
   "id": "8448cc99",
   "metadata": {},
   "outputs": [
    {
     "name": "stdout",
     "output_type": "stream",
     "text": [
      "Max: 71\n"
     ]
    }
   ],
   "source": [
    "# 4. Calculate the difference between the tallest and shortest students' heights.\n",
    "array_max = np.max(heights)\n",
    "print(\"Max:\", array_max)"
   ]
  },
  {
   "cell_type": "code",
   "execution_count": 12,
   "id": "4878883d",
   "metadata": {},
   "outputs": [
    {
     "name": "stdout",
     "output_type": "stream",
     "text": [
      "Min: 13\n"
     ]
    }
   ],
   "source": [
    "array_min = np.min(heights)\n",
    "print(\"Min:\", array_min)"
   ]
  },
  {
   "cell_type": "code",
   "execution_count": 16,
   "id": "4c58c99c",
   "metadata": {},
   "outputs": [
    {
     "name": "stdout",
     "output_type": "stream",
     "text": [
      "Sample without replacement: [13 65 19 63 71]\n"
     ]
    }
   ],
   "source": [
    "# 5. Randomly select 5 heights from the dataset without replacement.\n",
    "\n",
    "sample_no_replacement = np.random.choice(heights, 5, replace=False)\n",
    "print(\"Sample without replacement:\", sample_no_replacement)\n"
   ]
  },
  {
   "cell_type": "code",
   "execution_count": null,
   "id": "0406ceca",
   "metadata": {},
   "outputs": [],
   "source": []
  }
 ],
 "metadata": {
  "kernelspec": {
   "display_name": "Python 3 (ipykernel)",
   "language": "python",
   "name": "python3"
  },
  "language_info": {
   "codemirror_mode": {
    "name": "ipython",
    "version": 3
   },
   "file_extension": ".py",
   "mimetype": "text/x-python",
   "name": "python",
   "nbconvert_exporter": "python",
   "pygments_lexer": "ipython3",
   "version": "3.11.3"
  }
 },
 "nbformat": 4,
 "nbformat_minor": 5
}
