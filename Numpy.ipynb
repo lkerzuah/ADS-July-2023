{
 "cells": [
  {
   "cell_type": "code",
   "execution_count": 1,
   "id": "0620116c",
   "metadata": {},
   "outputs": [
    {
     "name": "stdout",
     "output_type": "stream",
     "text": [
      "Mean: 166.7\n"
     ]
    }
   ],
   "source": [
    "import numpy as np\n",
    "\n",
    "# 1. Calculate the mean, median, and standard deviation of the students' heights.\n",
    "\n",
    "heights = np.array([160, 155, 172, 165, 180, 158, 175, 163, 171, 168])\n",
    "\n",
    "mean = np.mean(heights)\n",
    "print(\"Mean:\", mean)\n"
   ]
  },
  {
   "cell_type": "code",
   "execution_count": 2,
   "id": "53e12311",
   "metadata": {},
   "outputs": [
    {
     "name": "stdout",
     "output_type": "stream",
     "text": [
      "Median: 166.5\n"
     ]
    }
   ],
   "source": [
    "median = np.median(heights)\n",
    "print(\"Median:\", median)"
   ]
  },
  {
   "cell_type": "code",
   "execution_count": 3,
   "id": "1b7282c1",
   "metadata": {},
   "outputs": [
    {
     "name": "stdout",
     "output_type": "stream",
     "text": [
      "Standard Deviation: 7.5372408744845085\n"
     ]
    }
   ],
   "source": [
    "std_dev = np.std(heights)\n",
    "print(\"Standard Deviation:\", std_dev)"
   ]
  },
  {
   "cell_type": "code",
   "execution_count": 8,
   "id": "8ac1adf0",
   "metadata": {},
   "outputs": [
    {
     "name": "stdout",
     "output_type": "stream",
     "text": [
      "[0.         0.05172414 0.10344828 0.15517241 0.17241379 0.43103448\n",
      " 0.5862069  0.74137931 0.77586207 0.86206897 0.89655172 0.98275862\n",
      " 1.        ]\n"
     ]
    }
   ],
   "source": [
    "# 2. Create a new array with the heights normalized, i.e., each height value should be transformed to have a mean of 0 and a standard deviation of 1.\n",
    "\n",
    "import numpy as np\n",
    "\n",
    "#create NumPy array\n",
    "\n",
    "heights_norm = (heights-np.min(heights))/(np.max(heights)-np.min(heights))\n",
    "\n",
    "#view normalized array\n",
    "print(heights_norm)"
   ]
  },
  {
   "cell_type": "code",
   "execution_count": 9,
   "id": "9af056f2",
   "metadata": {},
   "outputs": [
    {
     "name": "stdout",
     "output_type": "stream",
     "text": [
      "Argmax: 12\n"
     ]
    }
   ],
   "source": [
    "# 3. Determine the tallest and shortest students in the class using NumPy's argmax and argmin functions.\n",
    "\n",
    "array_argmax = np.argmax(heights)\n",
    "print(\"Argmax:\", array_argmax)  "
   ]
  },
  {
   "cell_type": "code",
   "execution_count": 10,
   "id": "8438f4e5",
   "metadata": {},
   "outputs": [
    {
     "name": "stdout",
     "output_type": "stream",
     "text": [
      "Argmin: 0\n"
     ]
    }
   ],
   "source": [
    "array_argmin = np.argmin(heights)\n",
    "print(\"Argmin:\", array_argmin) "
   ]
  },
  {
   "cell_type": "code",
   "execution_count": 11,
   "id": "f44a0cc0",
   "metadata": {},
   "outputs": [
    {
     "name": "stdout",
     "output_type": "stream",
     "text": [
      "Max: 71\n"
     ]
    }
   ],
   "source": [
    "# 4. Calculate the difference between the tallest and shortest students' heights.\n",
    "array_max = np.max(heights)\n",
    "print(\"Max:\", array_max)"
   ]
  },
  {
   "cell_type": "code",
   "execution_count": 12,
   "id": "b1370b08",
   "metadata": {},
   "outputs": [
    {
     "name": "stdout",
     "output_type": "stream",
     "text": [
      "Min: 13\n"
     ]
    }
   ],
   "source": [
    "array_min = np.min(heights)\n",
    "print(\"Min:\", array_min)"
   ]
  },
  {
   "cell_type": "markdown",
   "id": "86982da5",
   "metadata": {},
   "source": [
    "# 5. Randomly select 5 heights from the dataset without replacement.\n",
    "\n",
    "sample_no_replacement = np.random.choice(heights, 5, replace=False)\n",
    "print(\"Sample without replacement:\", sample_no_replacement)\n"
   ]
  },
  {
   "cell_type": "markdown",
   "id": "9802f4a5",
   "metadata": {},
   "source": []
  }
 ],
 "metadata": {
  "kernelspec": {
   "display_name": "Python 3 (ipykernel)",
   "language": "python",
   "name": "python3"
  },
  "language_info": {
   "codemirror_mode": {
    "name": "ipython",
    "version": 3
   },
   "file_extension": ".py",
   "mimetype": "text/x-python",
   "name": "python",
   "nbconvert_exporter": "python",
   "pygments_lexer": "ipython3",
   "version": "3.11.3"
  }
 },
 "nbformat": 4,
 "nbformat_minor": 5
}
